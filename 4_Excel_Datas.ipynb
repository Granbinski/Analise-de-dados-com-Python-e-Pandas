{
  "cells": [
    {
      "cell_type": "markdown",
      "metadata": {
        "colab_type": "text",
        "id": "ZeNH2z6OzfND"
      },
      "source": [
        "#**Trabalhando com Planilhas do Excel**"
      ]
    },
    {
      "cell_type": "code",
      "execution_count": 3,
      "metadata": {
        "colab": {},
        "colab_type": "code",
        "id": "Jwz3_uGfzmYp"
      },
      "outputs": [],
      "source": [
        "#Importando a biblioteca\n",
        "import pandas as pd"
      ]
    },
    {
      "cell_type": "code",
      "execution_count": 4,
      "metadata": {
        "colab": {},
        "colab_type": "code",
        "id": "pCTDd0YKzqkc"
      },
      "outputs": [],
      "source": [
        "#Leitura dos arquivos\n",
        "df1 = pd.read_excel(\n",
        "    \"C:/Users/Inacio/Desktop/Projetos/Web/An-lise-de-dados-com-Python-e-Pandas/datasets/Aracaju.xlsx\")\n",
        "df2 = pd.read_excel(\n",
        "    \"C:/Users/Inacio/Desktop/Projetos/Web/An-lise-de-dados-com-Python-e-Pandas/datasets/Fortaleza.xlsx\")\n",
        "df3 = pd.read_excel(\n",
        "    \"C:/Users/Inacio/Desktop/Projetos/Web/An-lise-de-dados-com-Python-e-Pandas/datasets/Natal.xlsx\")\n",
        "df4 = pd.read_excel(\n",
        "    \"C:/Users/Inacio/Desktop/Projetos/Web/An-lise-de-dados-com-Python-e-Pandas/datasets/Recife.xlsx\")\n",
        "df5 = pd.read_excel(\n",
        "    \"C:/Users/Inacio/Desktop/Projetos/Web/An-lise-de-dados-com-Python-e-Pandas/datasets/Salvador.xlsx\")\n"
      ]
    },
    {
      "cell_type": "code",
      "execution_count": 5,
      "metadata": {
        "colab": {
          "base_uri": "https://localhost:8080/",
          "height": 204
        },
        "colab_type": "code",
        "id": "bt3rZ7tWBPj7",
        "outputId": "ffe2a67a-51ad-4749-d941-81cdd22dd29b"
      },
      "outputs": [
        {
          "data": {
            "text/html": [
              "<div>\n",
              "<style scoped>\n",
              "    .dataframe tbody tr th:only-of-type {\n",
              "        vertical-align: middle;\n",
              "    }\n",
              "\n",
              "    .dataframe tbody tr th {\n",
              "        vertical-align: top;\n",
              "    }\n",
              "\n",
              "    .dataframe thead th {\n",
              "        text-align: right;\n",
              "    }\n",
              "</style>\n",
              "<table border=\"1\" class=\"dataframe\">\n",
              "  <thead>\n",
              "    <tr style=\"text-align: right;\">\n",
              "      <th></th>\n",
              "      <th>Cidade</th>\n",
              "      <th>Data</th>\n",
              "      <th>Vendas</th>\n",
              "      <th>LojaID</th>\n",
              "      <th>Qtde</th>\n",
              "    </tr>\n",
              "  </thead>\n",
              "  <tbody>\n",
              "    <tr>\n",
              "      <th>0</th>\n",
              "      <td>Salvador</td>\n",
              "      <td>2018-01-01</td>\n",
              "      <td>31.06</td>\n",
              "      <td>1037</td>\n",
              "      <td>3</td>\n",
              "    </tr>\n",
              "    <tr>\n",
              "      <th>1</th>\n",
              "      <td>Salvador</td>\n",
              "      <td>2018-01-01</td>\n",
              "      <td>19.02</td>\n",
              "      <td>1034</td>\n",
              "      <td>3</td>\n",
              "    </tr>\n",
              "    <tr>\n",
              "      <th>2</th>\n",
              "      <td>Salvador</td>\n",
              "      <td>2019-02-10</td>\n",
              "      <td>173.59</td>\n",
              "      <td>1035</td>\n",
              "      <td>3</td>\n",
              "    </tr>\n",
              "    <tr>\n",
              "      <th>3</th>\n",
              "      <td>Salvador</td>\n",
              "      <td>2019-02-10</td>\n",
              "      <td>176.34</td>\n",
              "      <td>1037</td>\n",
              "      <td>3</td>\n",
              "    </tr>\n",
              "    <tr>\n",
              "      <th>4</th>\n",
              "      <td>Salvador</td>\n",
              "      <td>2019-02-14</td>\n",
              "      <td>19.47</td>\n",
              "      <td>1037</td>\n",
              "      <td>3</td>\n",
              "    </tr>\n",
              "  </tbody>\n",
              "</table>\n",
              "</div>"
            ],
            "text/plain": [
              "     Cidade       Data  Vendas  LojaID  Qtde\n",
              "0  Salvador 2018-01-01   31.06    1037     3\n",
              "1  Salvador 2018-01-01   19.02    1034     3\n",
              "2  Salvador 2019-02-10  173.59    1035     3\n",
              "3  Salvador 2019-02-10  176.34    1037     3\n",
              "4  Salvador 2019-02-14   19.47    1037     3"
            ]
          },
          "execution_count": 5,
          "metadata": {},
          "output_type": "execute_result"
        }
      ],
      "source": [
        "df5.head()"
      ]
    },
    {
      "cell_type": "code",
      "execution_count": 6,
      "metadata": {
        "colab": {},
        "colab_type": "code",
        "id": "7CUnX6220WVx"
      },
      "outputs": [],
      "source": [
        "#juntando todos os arquivos\n",
        "df = pd.concat([df1,df2,df3,df4,df5])"
      ]
    },
    {
      "cell_type": "code",
      "execution_count": 7,
      "metadata": {
        "colab": {
          "base_uri": "https://localhost:8080/",
          "height": 204
        },
        "colab_type": "code",
        "id": "3ZFau-ii08Lr",
        "outputId": "f1ed7fc3-ac01-4af0-cfae-392c343ffb03"
      },
      "outputs": [
        {
          "data": {
            "text/html": [
              "<div>\n",
              "<style scoped>\n",
              "    .dataframe tbody tr th:only-of-type {\n",
              "        vertical-align: middle;\n",
              "    }\n",
              "\n",
              "    .dataframe tbody tr th {\n",
              "        vertical-align: top;\n",
              "    }\n",
              "\n",
              "    .dataframe thead th {\n",
              "        text-align: right;\n",
              "    }\n",
              "</style>\n",
              "<table border=\"1\" class=\"dataframe\">\n",
              "  <thead>\n",
              "    <tr style=\"text-align: right;\">\n",
              "      <th></th>\n",
              "      <th>Cidade</th>\n",
              "      <th>Data</th>\n",
              "      <th>Vendas</th>\n",
              "      <th>LojaID</th>\n",
              "      <th>Qtde</th>\n",
              "    </tr>\n",
              "  </thead>\n",
              "  <tbody>\n",
              "    <tr>\n",
              "      <th>0</th>\n",
              "      <td>Aracaju</td>\n",
              "      <td>2018-01-01</td>\n",
              "      <td>142.00</td>\n",
              "      <td>1520</td>\n",
              "      <td>1</td>\n",
              "    </tr>\n",
              "    <tr>\n",
              "      <th>1</th>\n",
              "      <td>Aracaju</td>\n",
              "      <td>2018-01-01</td>\n",
              "      <td>14.21</td>\n",
              "      <td>1522</td>\n",
              "      <td>6</td>\n",
              "    </tr>\n",
              "    <tr>\n",
              "      <th>2</th>\n",
              "      <td>Aracaju</td>\n",
              "      <td>2018-01-01</td>\n",
              "      <td>71.55</td>\n",
              "      <td>1520</td>\n",
              "      <td>1</td>\n",
              "    </tr>\n",
              "    <tr>\n",
              "      <th>3</th>\n",
              "      <td>Aracaju</td>\n",
              "      <td>2018-01-01</td>\n",
              "      <td>3.01</td>\n",
              "      <td>1521</td>\n",
              "      <td>7</td>\n",
              "    </tr>\n",
              "    <tr>\n",
              "      <th>4</th>\n",
              "      <td>Aracaju</td>\n",
              "      <td>2018-01-01</td>\n",
              "      <td>24.51</td>\n",
              "      <td>1522</td>\n",
              "      <td>8</td>\n",
              "    </tr>\n",
              "  </tbody>\n",
              "</table>\n",
              "</div>"
            ],
            "text/plain": [
              "    Cidade       Data  Vendas  LojaID  Qtde\n",
              "0  Aracaju 2018-01-01  142.00    1520     1\n",
              "1  Aracaju 2018-01-01   14.21    1522     6\n",
              "2  Aracaju 2018-01-01   71.55    1520     1\n",
              "3  Aracaju 2018-01-01    3.01    1521     7\n",
              "4  Aracaju 2018-01-01   24.51    1522     8"
            ]
          },
          "execution_count": 7,
          "metadata": {},
          "output_type": "execute_result"
        }
      ],
      "source": [
        "#Exibindo as 5 primeiras linhas\n",
        "df.head()"
      ]
    },
    {
      "cell_type": "code",
      "execution_count": 8,
      "metadata": {
        "colab": {
          "base_uri": "https://localhost:8080/",
          "height": 204
        },
        "colab_type": "code",
        "id": "oURFLxhL09Uq",
        "outputId": "15c819f5-a1c0-42ac-a1be-4727c424340a"
      },
      "outputs": [
        {
          "data": {
            "text/html": [
              "<div>\n",
              "<style scoped>\n",
              "    .dataframe tbody tr th:only-of-type {\n",
              "        vertical-align: middle;\n",
              "    }\n",
              "\n",
              "    .dataframe tbody tr th {\n",
              "        vertical-align: top;\n",
              "    }\n",
              "\n",
              "    .dataframe thead th {\n",
              "        text-align: right;\n",
              "    }\n",
              "</style>\n",
              "<table border=\"1\" class=\"dataframe\">\n",
              "  <thead>\n",
              "    <tr style=\"text-align: right;\">\n",
              "      <th></th>\n",
              "      <th>Cidade</th>\n",
              "      <th>Data</th>\n",
              "      <th>Vendas</th>\n",
              "      <th>LojaID</th>\n",
              "      <th>Qtde</th>\n",
              "    </tr>\n",
              "  </thead>\n",
              "  <tbody>\n",
              "    <tr>\n",
              "      <th>235</th>\n",
              "      <td>Salvador</td>\n",
              "      <td>2019-01-03</td>\n",
              "      <td>41.84</td>\n",
              "      <td>1034</td>\n",
              "      <td>1</td>\n",
              "    </tr>\n",
              "    <tr>\n",
              "      <th>236</th>\n",
              "      <td>Salvador</td>\n",
              "      <td>2019-01-03</td>\n",
              "      <td>126.29</td>\n",
              "      <td>1035</td>\n",
              "      <td>3</td>\n",
              "    </tr>\n",
              "    <tr>\n",
              "      <th>237</th>\n",
              "      <td>Salvador</td>\n",
              "      <td>2019-01-03</td>\n",
              "      <td>38.06</td>\n",
              "      <td>1036</td>\n",
              "      <td>3</td>\n",
              "    </tr>\n",
              "    <tr>\n",
              "      <th>238</th>\n",
              "      <td>Salvador</td>\n",
              "      <td>2019-01-03</td>\n",
              "      <td>139.64</td>\n",
              "      <td>1035</td>\n",
              "      <td>1</td>\n",
              "    </tr>\n",
              "    <tr>\n",
              "      <th>239</th>\n",
              "      <td>Salvador</td>\n",
              "      <td>2019-01-03</td>\n",
              "      <td>161.41</td>\n",
              "      <td>1037</td>\n",
              "      <td>3</td>\n",
              "    </tr>\n",
              "  </tbody>\n",
              "</table>\n",
              "</div>"
            ],
            "text/plain": [
              "       Cidade       Data  Vendas  LojaID  Qtde\n",
              "235  Salvador 2019-01-03   41.84    1034     1\n",
              "236  Salvador 2019-01-03  126.29    1035     3\n",
              "237  Salvador 2019-01-03   38.06    1036     3\n",
              "238  Salvador 2019-01-03  139.64    1035     1\n",
              "239  Salvador 2019-01-03  161.41    1037     3"
            ]
          },
          "execution_count": 8,
          "metadata": {},
          "output_type": "execute_result"
        }
      ],
      "source": [
        "#Exibindo as 5 últimas linhas\n",
        "df.tail()"
      ]
    },
    {
      "cell_type": "code",
      "execution_count": 9,
      "metadata": {
        "colab": {
          "base_uri": "https://localhost:8080/",
          "height": 204
        },
        "colab_type": "code",
        "id": "j8eDDblOBsRG",
        "outputId": "efe39301-6ece-4446-a3b9-60cb39095e69"
      },
      "outputs": [
        {
          "data": {
            "text/html": [
              "<div>\n",
              "<style scoped>\n",
              "    .dataframe tbody tr th:only-of-type {\n",
              "        vertical-align: middle;\n",
              "    }\n",
              "\n",
              "    .dataframe tbody tr th {\n",
              "        vertical-align: top;\n",
              "    }\n",
              "\n",
              "    .dataframe thead th {\n",
              "        text-align: right;\n",
              "    }\n",
              "</style>\n",
              "<table border=\"1\" class=\"dataframe\">\n",
              "  <thead>\n",
              "    <tr style=\"text-align: right;\">\n",
              "      <th></th>\n",
              "      <th>Cidade</th>\n",
              "      <th>Data</th>\n",
              "      <th>Vendas</th>\n",
              "      <th>LojaID</th>\n",
              "      <th>Qtde</th>\n",
              "    </tr>\n",
              "  </thead>\n",
              "  <tbody>\n",
              "    <tr>\n",
              "      <th>212</th>\n",
              "      <td>Natal</td>\n",
              "      <td>2019-01-02</td>\n",
              "      <td>50.73</td>\n",
              "      <td>1037</td>\n",
              "      <td>3</td>\n",
              "    </tr>\n",
              "    <tr>\n",
              "      <th>33</th>\n",
              "      <td>Fortaleza</td>\n",
              "      <td>2019-01-01</td>\n",
              "      <td>19.56</td>\n",
              "      <td>1005</td>\n",
              "      <td>1</td>\n",
              "    </tr>\n",
              "    <tr>\n",
              "      <th>67</th>\n",
              "      <td>Recife</td>\n",
              "      <td>2019-01-01</td>\n",
              "      <td>179.52</td>\n",
              "      <td>983</td>\n",
              "      <td>5</td>\n",
              "    </tr>\n",
              "    <tr>\n",
              "      <th>28</th>\n",
              "      <td>Recife</td>\n",
              "      <td>2019-01-01</td>\n",
              "      <td>123.69</td>\n",
              "      <td>983</td>\n",
              "      <td>3</td>\n",
              "    </tr>\n",
              "    <tr>\n",
              "      <th>6</th>\n",
              "      <td>Salvador</td>\n",
              "      <td>2019-01-01</td>\n",
              "      <td>36.30</td>\n",
              "      <td>1034</td>\n",
              "      <td>2</td>\n",
              "    </tr>\n",
              "  </tbody>\n",
              "</table>\n",
              "</div>"
            ],
            "text/plain": [
              "        Cidade       Data  Vendas  LojaID  Qtde\n",
              "212      Natal 2019-01-02   50.73    1037     3\n",
              "33   Fortaleza 2019-01-01   19.56    1005     1\n",
              "67      Recife 2019-01-01  179.52     983     5\n",
              "28      Recife 2019-01-01  123.69     983     3\n",
              "6     Salvador 2019-01-01   36.30    1034     2"
            ]
          },
          "execution_count": 9,
          "metadata": {},
          "output_type": "execute_result"
        }
      ],
      "source": [
        "df.sample(5)"
      ]
    },
    {
      "cell_type": "code",
      "execution_count": 10,
      "metadata": {
        "colab": {
          "base_uri": "https://localhost:8080/",
          "height": 119
        },
        "colab_type": "code",
        "id": "kw0zQfVL0_-L",
        "outputId": "3617ad27-63b0-483f-ea6e-1a8413272afc"
      },
      "outputs": [
        {
          "data": {
            "text/plain": [
              "Cidade            object\n",
              "Data      datetime64[ns]\n",
              "Vendas           float64\n",
              "LojaID             int64\n",
              "Qtde               int64\n",
              "dtype: object"
            ]
          },
          "execution_count": 10,
          "metadata": {},
          "output_type": "execute_result"
        }
      ],
      "source": [
        "#Verificando o tipo de dado de cada coluna\n",
        "df.dtypes"
      ]
    },
    {
      "cell_type": "code",
      "execution_count": 11,
      "metadata": {
        "colab": {},
        "colab_type": "code",
        "id": "JB2rkM0b1kKF"
      },
      "outputs": [],
      "source": [
        "#Alterando o tipo de dado da coluna LojaID\n",
        "df[\"LojaID\"] = df[\"LojaID\"].astype(\"object\")"
      ]
    },
    {
      "cell_type": "code",
      "execution_count": 12,
      "metadata": {
        "colab": {
          "base_uri": "https://localhost:8080/",
          "height": 119
        },
        "colab_type": "code",
        "id": "3t1uir2H1w3x",
        "outputId": "a8d766f2-504e-4fcb-dc09-842b4c5218b6"
      },
      "outputs": [
        {
          "data": {
            "text/plain": [
              "Cidade            object\n",
              "Data      datetime64[ns]\n",
              "Vendas           float64\n",
              "LojaID            object\n",
              "Qtde               int64\n",
              "dtype: object"
            ]
          },
          "execution_count": 12,
          "metadata": {},
          "output_type": "execute_result"
        }
      ],
      "source": [
        "df.dtypes"
      ]
    },
    {
      "cell_type": "code",
      "execution_count": 13,
      "metadata": {
        "colab": {
          "base_uri": "https://localhost:8080/",
          "height": 204
        },
        "colab_type": "code",
        "id": "B0Z8PPuJ19dc",
        "outputId": "10d2f11c-d421-4434-fe61-dfa537b7d6bf"
      },
      "outputs": [
        {
          "data": {
            "text/html": [
              "<div>\n",
              "<style scoped>\n",
              "    .dataframe tbody tr th:only-of-type {\n",
              "        vertical-align: middle;\n",
              "    }\n",
              "\n",
              "    .dataframe tbody tr th {\n",
              "        vertical-align: top;\n",
              "    }\n",
              "\n",
              "    .dataframe thead th {\n",
              "        text-align: right;\n",
              "    }\n",
              "</style>\n",
              "<table border=\"1\" class=\"dataframe\">\n",
              "  <thead>\n",
              "    <tr style=\"text-align: right;\">\n",
              "      <th></th>\n",
              "      <th>Cidade</th>\n",
              "      <th>Data</th>\n",
              "      <th>Vendas</th>\n",
              "      <th>LojaID</th>\n",
              "      <th>Qtde</th>\n",
              "    </tr>\n",
              "  </thead>\n",
              "  <tbody>\n",
              "    <tr>\n",
              "      <th>0</th>\n",
              "      <td>Aracaju</td>\n",
              "      <td>2018-01-01</td>\n",
              "      <td>142.00</td>\n",
              "      <td>1520</td>\n",
              "      <td>1</td>\n",
              "    </tr>\n",
              "    <tr>\n",
              "      <th>1</th>\n",
              "      <td>Aracaju</td>\n",
              "      <td>2018-01-01</td>\n",
              "      <td>14.21</td>\n",
              "      <td>1522</td>\n",
              "      <td>6</td>\n",
              "    </tr>\n",
              "    <tr>\n",
              "      <th>2</th>\n",
              "      <td>Aracaju</td>\n",
              "      <td>2018-01-01</td>\n",
              "      <td>71.55</td>\n",
              "      <td>1520</td>\n",
              "      <td>1</td>\n",
              "    </tr>\n",
              "    <tr>\n",
              "      <th>3</th>\n",
              "      <td>Aracaju</td>\n",
              "      <td>2018-01-01</td>\n",
              "      <td>3.01</td>\n",
              "      <td>1521</td>\n",
              "      <td>7</td>\n",
              "    </tr>\n",
              "    <tr>\n",
              "      <th>4</th>\n",
              "      <td>Aracaju</td>\n",
              "      <td>2018-01-01</td>\n",
              "      <td>24.51</td>\n",
              "      <td>1522</td>\n",
              "      <td>8</td>\n",
              "    </tr>\n",
              "  </tbody>\n",
              "</table>\n",
              "</div>"
            ],
            "text/plain": [
              "    Cidade       Data  Vendas LojaID  Qtde\n",
              "0  Aracaju 2018-01-01  142.00   1520     1\n",
              "1  Aracaju 2018-01-01   14.21   1522     6\n",
              "2  Aracaju 2018-01-01   71.55   1520     1\n",
              "3  Aracaju 2018-01-01    3.01   1521     7\n",
              "4  Aracaju 2018-01-01   24.51   1522     8"
            ]
          },
          "execution_count": 13,
          "metadata": {},
          "output_type": "execute_result"
        }
      ],
      "source": [
        "df.head()"
      ]
    },
    {
      "cell_type": "markdown",
      "metadata": {
        "colab_type": "text",
        "id": "br1B_k4v2HVF"
      },
      "source": [
        "**Tratando valores faltantes**"
      ]
    },
    {
      "cell_type": "code",
      "execution_count": 14,
      "metadata": {
        "colab": {
          "base_uri": "https://localhost:8080/",
          "height": 119
        },
        "colab_type": "code",
        "id": "J5L9EehP2MQ_",
        "outputId": "91e21217-879a-426d-8b2b-fb15e77b2f87"
      },
      "outputs": [
        {
          "data": {
            "text/plain": [
              "Cidade    0\n",
              "Data      0\n",
              "Vendas    0\n",
              "LojaID    0\n",
              "Qtde      0\n",
              "dtype: int64"
            ]
          },
          "execution_count": 14,
          "metadata": {},
          "output_type": "execute_result"
        }
      ],
      "source": [
        "#Consultando linhas com valores faltantes\n",
        "df.isnull().sum()"
      ]
    },
    {
      "cell_type": "code",
      "execution_count": 15,
      "metadata": {
        "colab": {},
        "colab_type": "code",
        "id": "Pbq2ztpN3Qn8"
      },
      "outputs": [],
      "source": [
        "#Substituindo os valores nulos pela média\n",
        "df[\"Vendas\"].fillna(df[\"Vendas\"].mean(), inplace=True)"
      ]
    },
    {
      "cell_type": "code",
      "execution_count": 16,
      "metadata": {
        "colab": {
          "base_uri": "https://localhost:8080/",
          "height": 34
        },
        "colab_type": "code",
        "id": "mD0kfsgSC4Qm",
        "outputId": "ed9d1efa-e3b7-479e-9119-bab340148876"
      },
      "outputs": [
        {
          "data": {
            "text/plain": [
              "122.61180089485458"
            ]
          },
          "execution_count": 16,
          "metadata": {},
          "output_type": "execute_result"
        }
      ],
      "source": [
        "df[\"Vendas\"].mean()"
      ]
    },
    {
      "cell_type": "code",
      "execution_count": 17,
      "metadata": {
        "colab": {
          "base_uri": "https://localhost:8080/",
          "height": 119
        },
        "colab_type": "code",
        "id": "lA5QVn5N4C-A",
        "outputId": "84874d37-3368-452f-bed6-43782dea6cf6"
      },
      "outputs": [
        {
          "data": {
            "text/plain": [
              "Cidade    0\n",
              "Data      0\n",
              "Vendas    0\n",
              "LojaID    0\n",
              "Qtde      0\n",
              "dtype: int64"
            ]
          },
          "execution_count": 17,
          "metadata": {},
          "output_type": "execute_result"
        }
      ],
      "source": [
        "df.isnull().sum()"
      ]
    },
    {
      "cell_type": "code",
      "execution_count": 18,
      "metadata": {
        "colab": {
          "base_uri": "https://localhost:8080/",
          "height": 514
        },
        "colab_type": "code",
        "id": "ds7pcl-ZCzb_",
        "outputId": "e37c7b13-8bd1-46e2-e3f3-104e7fce8f8a"
      },
      "outputs": [
        {
          "data": {
            "text/html": [
              "<div>\n",
              "<style scoped>\n",
              "    .dataframe tbody tr th:only-of-type {\n",
              "        vertical-align: middle;\n",
              "    }\n",
              "\n",
              "    .dataframe tbody tr th {\n",
              "        vertical-align: top;\n",
              "    }\n",
              "\n",
              "    .dataframe thead th {\n",
              "        text-align: right;\n",
              "    }\n",
              "</style>\n",
              "<table border=\"1\" class=\"dataframe\">\n",
              "  <thead>\n",
              "    <tr style=\"text-align: right;\">\n",
              "      <th></th>\n",
              "      <th>Cidade</th>\n",
              "      <th>Data</th>\n",
              "      <th>Vendas</th>\n",
              "      <th>LojaID</th>\n",
              "      <th>Qtde</th>\n",
              "    </tr>\n",
              "  </thead>\n",
              "  <tbody>\n",
              "    <tr>\n",
              "      <th>44</th>\n",
              "      <td>Salvador</td>\n",
              "      <td>2019-01-01</td>\n",
              "      <td>43.26</td>\n",
              "      <td>1037</td>\n",
              "      <td>2</td>\n",
              "    </tr>\n",
              "    <tr>\n",
              "      <th>46</th>\n",
              "      <td>Aracaju</td>\n",
              "      <td>2018-01-01</td>\n",
              "      <td>41.42</td>\n",
              "      <td>1522</td>\n",
              "      <td>2</td>\n",
              "    </tr>\n",
              "    <tr>\n",
              "      <th>66</th>\n",
              "      <td>Fortaleza</td>\n",
              "      <td>2019-01-01</td>\n",
              "      <td>35.11</td>\n",
              "      <td>1005</td>\n",
              "      <td>6</td>\n",
              "    </tr>\n",
              "    <tr>\n",
              "      <th>79</th>\n",
              "      <td>Salvador</td>\n",
              "      <td>2019-01-01</td>\n",
              "      <td>19.02</td>\n",
              "      <td>1034</td>\n",
              "      <td>2</td>\n",
              "    </tr>\n",
              "    <tr>\n",
              "      <th>121</th>\n",
              "      <td>Fortaleza</td>\n",
              "      <td>2019-03-02</td>\n",
              "      <td>41.55</td>\n",
              "      <td>981</td>\n",
              "      <td>3</td>\n",
              "    </tr>\n",
              "    <tr>\n",
              "      <th>30</th>\n",
              "      <td>Recife</td>\n",
              "      <td>2019-01-01</td>\n",
              "      <td>12.35</td>\n",
              "      <td>980</td>\n",
              "      <td>5</td>\n",
              "    </tr>\n",
              "    <tr>\n",
              "      <th>210</th>\n",
              "      <td>Salvador</td>\n",
              "      <td>2019-01-02</td>\n",
              "      <td>197.64</td>\n",
              "      <td>1035</td>\n",
              "      <td>1</td>\n",
              "    </tr>\n",
              "    <tr>\n",
              "      <th>68</th>\n",
              "      <td>Natal</td>\n",
              "      <td>2018-06-22</td>\n",
              "      <td>274.00</td>\n",
              "      <td>852</td>\n",
              "      <td>3</td>\n",
              "    </tr>\n",
              "    <tr>\n",
              "      <th>19</th>\n",
              "      <td>Fortaleza</td>\n",
              "      <td>2019-01-01</td>\n",
              "      <td>18.86</td>\n",
              "      <td>1002</td>\n",
              "      <td>3</td>\n",
              "    </tr>\n",
              "    <tr>\n",
              "      <th>203</th>\n",
              "      <td>Natal</td>\n",
              "      <td>2019-01-02</td>\n",
              "      <td>37.75</td>\n",
              "      <td>1035</td>\n",
              "      <td>2</td>\n",
              "    </tr>\n",
              "    <tr>\n",
              "      <th>58</th>\n",
              "      <td>Recife</td>\n",
              "      <td>2019-01-01</td>\n",
              "      <td>8.02</td>\n",
              "      <td>983</td>\n",
              "      <td>2</td>\n",
              "    </tr>\n",
              "    <tr>\n",
              "      <th>100</th>\n",
              "      <td>Natal</td>\n",
              "      <td>2019-01-02</td>\n",
              "      <td>190.97</td>\n",
              "      <td>1036</td>\n",
              "      <td>2</td>\n",
              "    </tr>\n",
              "    <tr>\n",
              "      <th>70</th>\n",
              "      <td>Aracaju</td>\n",
              "      <td>2018-01-01</td>\n",
              "      <td>8.44</td>\n",
              "      <td>1523</td>\n",
              "      <td>9</td>\n",
              "    </tr>\n",
              "    <tr>\n",
              "      <th>140</th>\n",
              "      <td>Salvador</td>\n",
              "      <td>2019-03-02</td>\n",
              "      <td>20.79</td>\n",
              "      <td>1036</td>\n",
              "      <td>2</td>\n",
              "    </tr>\n",
              "    <tr>\n",
              "      <th>56</th>\n",
              "      <td>Natal</td>\n",
              "      <td>2018-03-02</td>\n",
              "      <td>704.00</td>\n",
              "      <td>852</td>\n",
              "      <td>4</td>\n",
              "    </tr>\n",
              "  </tbody>\n",
              "</table>\n",
              "</div>"
            ],
            "text/plain": [
              "        Cidade       Data  Vendas LojaID  Qtde\n",
              "44    Salvador 2019-01-01   43.26   1037     2\n",
              "46     Aracaju 2018-01-01   41.42   1522     2\n",
              "66   Fortaleza 2019-01-01   35.11   1005     6\n",
              "79    Salvador 2019-01-01   19.02   1034     2\n",
              "121  Fortaleza 2019-03-02   41.55    981     3\n",
              "30      Recife 2019-01-01   12.35    980     5\n",
              "210   Salvador 2019-01-02  197.64   1035     1\n",
              "68       Natal 2018-06-22  274.00    852     3\n",
              "19   Fortaleza 2019-01-01   18.86   1002     3\n",
              "203      Natal 2019-01-02   37.75   1035     2\n",
              "58      Recife 2019-01-01    8.02    983     2\n",
              "100      Natal 2019-01-02  190.97   1036     2\n",
              "70     Aracaju 2018-01-01    8.44   1523     9\n",
              "140   Salvador 2019-03-02   20.79   1036     2\n",
              "56       Natal 2018-03-02  704.00    852     4"
            ]
          },
          "execution_count": 18,
          "metadata": {},
          "output_type": "execute_result"
        }
      ],
      "source": [
        "df.sample(15)"
      ]
    },
    {
      "cell_type": "code",
      "execution_count": 19,
      "metadata": {
        "colab": {},
        "colab_type": "code",
        "id": "mMzEuPzg4N7U"
      },
      "outputs": [],
      "source": [
        "#Substituindo os valores nulos por zero\n",
        "df[\"Vendas\"].fillna(0, inplace=True)"
      ]
    },
    {
      "cell_type": "code",
      "execution_count": 20,
      "metadata": {
        "colab": {},
        "colab_type": "code",
        "id": "pS7Hw6Df4Z7x"
      },
      "outputs": [],
      "source": [
        "#Apagando as linhas com valores nulos\n",
        "df.dropna(inplace=True)"
      ]
    },
    {
      "cell_type": "code",
      "execution_count": 21,
      "metadata": {
        "colab": {},
        "colab_type": "code",
        "id": "iCpMj9MD4mW4"
      },
      "outputs": [],
      "source": [
        "#Apagando as linhas com valores nulos com base apenas em 1 coluna\n",
        "df.dropna(subset=[\"Vendas\"], inplace=True)"
      ]
    },
    {
      "cell_type": "code",
      "execution_count": 22,
      "metadata": {
        "colab": {},
        "colab_type": "code",
        "id": "LYGy2VqH8uaM"
      },
      "outputs": [],
      "source": [
        "#Removendo linhas que estejam com valores faltantes em todas as colunas\n",
        "df.dropna(how=\"all\", inplace=True)"
      ]
    },
    {
      "cell_type": "markdown",
      "metadata": {
        "colab_type": "text",
        "id": "6qEyt17h9IwX"
      },
      "source": [
        "**Criando colunas novas**"
      ]
    },
    {
      "cell_type": "code",
      "execution_count": 23,
      "metadata": {
        "colab": {},
        "colab_type": "code",
        "id": "1HAAiPkh1yIN"
      },
      "outputs": [],
      "source": [
        "#Criando a coluna de receita\n",
        "df[\"Receita\"] = df[\"Vendas\"].mul(df[\"Qtde\"])"
      ]
    },
    {
      "cell_type": "code",
      "execution_count": 24,
      "metadata": {
        "colab": {
          "base_uri": "https://localhost:8080/",
          "height": 204
        },
        "colab_type": "code",
        "id": "_gMBlvMq5fPj",
        "outputId": "a971500e-05cb-417a-f782-9a7737c2728f"
      },
      "outputs": [
        {
          "data": {
            "text/html": [
              "<div>\n",
              "<style scoped>\n",
              "    .dataframe tbody tr th:only-of-type {\n",
              "        vertical-align: middle;\n",
              "    }\n",
              "\n",
              "    .dataframe tbody tr th {\n",
              "        vertical-align: top;\n",
              "    }\n",
              "\n",
              "    .dataframe thead th {\n",
              "        text-align: right;\n",
              "    }\n",
              "</style>\n",
              "<table border=\"1\" class=\"dataframe\">\n",
              "  <thead>\n",
              "    <tr style=\"text-align: right;\">\n",
              "      <th></th>\n",
              "      <th>Cidade</th>\n",
              "      <th>Data</th>\n",
              "      <th>Vendas</th>\n",
              "      <th>LojaID</th>\n",
              "      <th>Qtde</th>\n",
              "      <th>Receita</th>\n",
              "    </tr>\n",
              "  </thead>\n",
              "  <tbody>\n",
              "    <tr>\n",
              "      <th>0</th>\n",
              "      <td>Aracaju</td>\n",
              "      <td>2018-01-01</td>\n",
              "      <td>142.00</td>\n",
              "      <td>1520</td>\n",
              "      <td>1</td>\n",
              "      <td>142.00</td>\n",
              "    </tr>\n",
              "    <tr>\n",
              "      <th>1</th>\n",
              "      <td>Aracaju</td>\n",
              "      <td>2018-01-01</td>\n",
              "      <td>14.21</td>\n",
              "      <td>1522</td>\n",
              "      <td>6</td>\n",
              "      <td>85.26</td>\n",
              "    </tr>\n",
              "    <tr>\n",
              "      <th>2</th>\n",
              "      <td>Aracaju</td>\n",
              "      <td>2018-01-01</td>\n",
              "      <td>71.55</td>\n",
              "      <td>1520</td>\n",
              "      <td>1</td>\n",
              "      <td>71.55</td>\n",
              "    </tr>\n",
              "    <tr>\n",
              "      <th>3</th>\n",
              "      <td>Aracaju</td>\n",
              "      <td>2018-01-01</td>\n",
              "      <td>3.01</td>\n",
              "      <td>1521</td>\n",
              "      <td>7</td>\n",
              "      <td>21.07</td>\n",
              "    </tr>\n",
              "    <tr>\n",
              "      <th>4</th>\n",
              "      <td>Aracaju</td>\n",
              "      <td>2018-01-01</td>\n",
              "      <td>24.51</td>\n",
              "      <td>1522</td>\n",
              "      <td>8</td>\n",
              "      <td>196.08</td>\n",
              "    </tr>\n",
              "  </tbody>\n",
              "</table>\n",
              "</div>"
            ],
            "text/plain": [
              "    Cidade       Data  Vendas LojaID  Qtde  Receita\n",
              "0  Aracaju 2018-01-01  142.00   1520     1   142.00\n",
              "1  Aracaju 2018-01-01   14.21   1522     6    85.26\n",
              "2  Aracaju 2018-01-01   71.55   1520     1    71.55\n",
              "3  Aracaju 2018-01-01    3.01   1521     7    21.07\n",
              "4  Aracaju 2018-01-01   24.51   1522     8   196.08"
            ]
          },
          "execution_count": 24,
          "metadata": {},
          "output_type": "execute_result"
        }
      ],
      "source": [
        "df.head()"
      ]
    },
    {
      "cell_type": "code",
      "execution_count": 25,
      "metadata": {
        "colab": {},
        "colab_type": "code",
        "id": "DyU5SIhB9Q8w"
      },
      "outputs": [],
      "source": [
        "df[\"Receita/Vendas\"] = df[\"Receita\"] / df[\"Vendas\"] "
      ]
    },
    {
      "cell_type": "code",
      "execution_count": 26,
      "metadata": {
        "colab": {
          "base_uri": "https://localhost:8080/",
          "height": 204
        },
        "colab_type": "code",
        "id": "YfMgO16q9m8F",
        "outputId": "6b323566-e8aa-4a51-8623-cd0c7ec0cd69"
      },
      "outputs": [
        {
          "data": {
            "text/html": [
              "<div>\n",
              "<style scoped>\n",
              "    .dataframe tbody tr th:only-of-type {\n",
              "        vertical-align: middle;\n",
              "    }\n",
              "\n",
              "    .dataframe tbody tr th {\n",
              "        vertical-align: top;\n",
              "    }\n",
              "\n",
              "    .dataframe thead th {\n",
              "        text-align: right;\n",
              "    }\n",
              "</style>\n",
              "<table border=\"1\" class=\"dataframe\">\n",
              "  <thead>\n",
              "    <tr style=\"text-align: right;\">\n",
              "      <th></th>\n",
              "      <th>Cidade</th>\n",
              "      <th>Data</th>\n",
              "      <th>Vendas</th>\n",
              "      <th>LojaID</th>\n",
              "      <th>Qtde</th>\n",
              "      <th>Receita</th>\n",
              "      <th>Receita/Vendas</th>\n",
              "    </tr>\n",
              "  </thead>\n",
              "  <tbody>\n",
              "    <tr>\n",
              "      <th>0</th>\n",
              "      <td>Aracaju</td>\n",
              "      <td>2018-01-01</td>\n",
              "      <td>142.00</td>\n",
              "      <td>1520</td>\n",
              "      <td>1</td>\n",
              "      <td>142.00</td>\n",
              "      <td>1.0</td>\n",
              "    </tr>\n",
              "    <tr>\n",
              "      <th>1</th>\n",
              "      <td>Aracaju</td>\n",
              "      <td>2018-01-01</td>\n",
              "      <td>14.21</td>\n",
              "      <td>1522</td>\n",
              "      <td>6</td>\n",
              "      <td>85.26</td>\n",
              "      <td>6.0</td>\n",
              "    </tr>\n",
              "    <tr>\n",
              "      <th>2</th>\n",
              "      <td>Aracaju</td>\n",
              "      <td>2018-01-01</td>\n",
              "      <td>71.55</td>\n",
              "      <td>1520</td>\n",
              "      <td>1</td>\n",
              "      <td>71.55</td>\n",
              "      <td>1.0</td>\n",
              "    </tr>\n",
              "    <tr>\n",
              "      <th>3</th>\n",
              "      <td>Aracaju</td>\n",
              "      <td>2018-01-01</td>\n",
              "      <td>3.01</td>\n",
              "      <td>1521</td>\n",
              "      <td>7</td>\n",
              "      <td>21.07</td>\n",
              "      <td>7.0</td>\n",
              "    </tr>\n",
              "    <tr>\n",
              "      <th>4</th>\n",
              "      <td>Aracaju</td>\n",
              "      <td>2018-01-01</td>\n",
              "      <td>24.51</td>\n",
              "      <td>1522</td>\n",
              "      <td>8</td>\n",
              "      <td>196.08</td>\n",
              "      <td>8.0</td>\n",
              "    </tr>\n",
              "  </tbody>\n",
              "</table>\n",
              "</div>"
            ],
            "text/plain": [
              "    Cidade       Data  Vendas LojaID  Qtde  Receita  Receita/Vendas\n",
              "0  Aracaju 2018-01-01  142.00   1520     1   142.00             1.0\n",
              "1  Aracaju 2018-01-01   14.21   1522     6    85.26             6.0\n",
              "2  Aracaju 2018-01-01   71.55   1520     1    71.55             1.0\n",
              "3  Aracaju 2018-01-01    3.01   1521     7    21.07             7.0\n",
              "4  Aracaju 2018-01-01   24.51   1522     8   196.08             8.0"
            ]
          },
          "execution_count": 26,
          "metadata": {},
          "output_type": "execute_result"
        }
      ],
      "source": [
        "df.head()"
      ]
    },
    {
      "cell_type": "code",
      "execution_count": 27,
      "metadata": {
        "colab": {
          "base_uri": "https://localhost:8080/",
          "height": 34
        },
        "colab_type": "code",
        "id": "8uy9S6JZ3DB4",
        "outputId": "1e059579-152c-4151-8aaf-2f61e689644b"
      },
      "outputs": [
        {
          "data": {
            "text/plain": [
              "3544.0"
            ]
          },
          "execution_count": 27,
          "metadata": {},
          "output_type": "execute_result"
        }
      ],
      "source": [
        "#Retornando a maior receita\n",
        "df[\"Receita\"].max()"
      ]
    },
    {
      "cell_type": "code",
      "execution_count": 28,
      "metadata": {
        "colab": {
          "base_uri": "https://localhost:8080/",
          "height": 34
        },
        "colab_type": "code",
        "id": "y0eoDEcQ5cZC",
        "outputId": "4a520c61-b418-4bdc-8196-f4ea5eee07c8"
      },
      "outputs": [
        {
          "data": {
            "text/plain": [
              "3.34"
            ]
          },
          "execution_count": 28,
          "metadata": {},
          "output_type": "execute_result"
        }
      ],
      "source": [
        "#Retornando a menor receita\n",
        "df[\"Receita\"].min()"
      ]
    },
    {
      "cell_type": "code",
      "execution_count": 29,
      "metadata": {
        "colab": {
          "base_uri": "https://localhost:8080/",
          "height": 142
        },
        "colab_type": "code",
        "id": "gX87zZJ45p5e",
        "outputId": "bf1cce13-9157-4752-cf40-32b31f0c6977"
      },
      "outputs": [
        {
          "data": {
            "text/html": [
              "<div>\n",
              "<style scoped>\n",
              "    .dataframe tbody tr th:only-of-type {\n",
              "        vertical-align: middle;\n",
              "    }\n",
              "\n",
              "    .dataframe tbody tr th {\n",
              "        vertical-align: top;\n",
              "    }\n",
              "\n",
              "    .dataframe thead th {\n",
              "        text-align: right;\n",
              "    }\n",
              "</style>\n",
              "<table border=\"1\" class=\"dataframe\">\n",
              "  <thead>\n",
              "    <tr style=\"text-align: right;\">\n",
              "      <th></th>\n",
              "      <th>Cidade</th>\n",
              "      <th>Data</th>\n",
              "      <th>Vendas</th>\n",
              "      <th>LojaID</th>\n",
              "      <th>Qtde</th>\n",
              "      <th>Receita</th>\n",
              "      <th>Receita/Vendas</th>\n",
              "    </tr>\n",
              "  </thead>\n",
              "  <tbody>\n",
              "    <tr>\n",
              "      <th>7</th>\n",
              "      <td>Natal</td>\n",
              "      <td>2019-03-18</td>\n",
              "      <td>886.0</td>\n",
              "      <td>853</td>\n",
              "      <td>4</td>\n",
              "      <td>3544.0</td>\n",
              "      <td>4.0</td>\n",
              "    </tr>\n",
              "    <tr>\n",
              "      <th>51</th>\n",
              "      <td>Natal</td>\n",
              "      <td>2018-01-21</td>\n",
              "      <td>859.0</td>\n",
              "      <td>852</td>\n",
              "      <td>4</td>\n",
              "      <td>3436.0</td>\n",
              "      <td>4.0</td>\n",
              "    </tr>\n",
              "    <tr>\n",
              "      <th>55</th>\n",
              "      <td>Natal</td>\n",
              "      <td>2019-01-08</td>\n",
              "      <td>859.0</td>\n",
              "      <td>854</td>\n",
              "      <td>4</td>\n",
              "      <td>3436.0</td>\n",
              "      <td>4.0</td>\n",
              "    </tr>\n",
              "  </tbody>\n",
              "</table>\n",
              "</div>"
            ],
            "text/plain": [
              "   Cidade       Data  Vendas LojaID  Qtde  Receita  Receita/Vendas\n",
              "7   Natal 2019-03-18   886.0    853     4   3544.0             4.0\n",
              "51  Natal 2018-01-21   859.0    852     4   3436.0             4.0\n",
              "55  Natal 2019-01-08   859.0    854     4   3436.0             4.0"
            ]
          },
          "execution_count": 29,
          "metadata": {},
          "output_type": "execute_result"
        }
      ],
      "source": [
        "#nlargest\n",
        "df.nlargest(3, \"Receita\")"
      ]
    },
    {
      "cell_type": "code",
      "execution_count": 30,
      "metadata": {
        "colab": {
          "base_uri": "https://localhost:8080/",
          "height": 142
        },
        "colab_type": "code",
        "id": "gPK25dF_5w8q",
        "outputId": "dc8bdffa-f584-4baa-a1d9-67bf4006048a"
      },
      "outputs": [
        {
          "data": {
            "text/html": [
              "<div>\n",
              "<style scoped>\n",
              "    .dataframe tbody tr th:only-of-type {\n",
              "        vertical-align: middle;\n",
              "    }\n",
              "\n",
              "    .dataframe tbody tr th {\n",
              "        vertical-align: top;\n",
              "    }\n",
              "\n",
              "    .dataframe thead th {\n",
              "        text-align: right;\n",
              "    }\n",
              "</style>\n",
              "<table border=\"1\" class=\"dataframe\">\n",
              "  <thead>\n",
              "    <tr style=\"text-align: right;\">\n",
              "      <th></th>\n",
              "      <th>Cidade</th>\n",
              "      <th>Data</th>\n",
              "      <th>Vendas</th>\n",
              "      <th>LojaID</th>\n",
              "      <th>Qtde</th>\n",
              "      <th>Receita</th>\n",
              "      <th>Receita/Vendas</th>\n",
              "    </tr>\n",
              "  </thead>\n",
              "  <tbody>\n",
              "    <tr>\n",
              "      <th>118</th>\n",
              "      <td>Aracaju</td>\n",
              "      <td>2018-01-01</td>\n",
              "      <td>3.34</td>\n",
              "      <td>1522</td>\n",
              "      <td>1</td>\n",
              "      <td>3.34</td>\n",
              "      <td>1.0</td>\n",
              "    </tr>\n",
              "    <tr>\n",
              "      <th>65</th>\n",
              "      <td>Recife</td>\n",
              "      <td>2019-01-01</td>\n",
              "      <td>4.01</td>\n",
              "      <td>981</td>\n",
              "      <td>1</td>\n",
              "      <td>4.01</td>\n",
              "      <td>1.0</td>\n",
              "    </tr>\n",
              "    <tr>\n",
              "      <th>92</th>\n",
              "      <td>Natal</td>\n",
              "      <td>2019-01-02</td>\n",
              "      <td>4.57</td>\n",
              "      <td>1035</td>\n",
              "      <td>1</td>\n",
              "      <td>4.57</td>\n",
              "      <td>1.0</td>\n",
              "    </tr>\n",
              "  </tbody>\n",
              "</table>\n",
              "</div>"
            ],
            "text/plain": [
              "      Cidade       Data  Vendas LojaID  Qtde  Receita  Receita/Vendas\n",
              "118  Aracaju 2018-01-01    3.34   1522     1     3.34             1.0\n",
              "65    Recife 2019-01-01    4.01    981     1     4.01             1.0\n",
              "92     Natal 2019-01-02    4.57   1035     1     4.57             1.0"
            ]
          },
          "execution_count": 30,
          "metadata": {},
          "output_type": "execute_result"
        }
      ],
      "source": [
        "#nsamllest\n",
        "df.nsmallest(3, \"Receita\")"
      ]
    },
    {
      "cell_type": "code",
      "execution_count": 31,
      "metadata": {
        "colab": {
          "base_uri": "https://localhost:8080/",
          "height": 136
        },
        "colab_type": "code",
        "id": "VS5Bu2fQ53fG",
        "outputId": "8d41e480-5db7-4175-cb4e-184f91a52a38"
      },
      "outputs": [
        {
          "data": {
            "text/plain": [
              "Cidade\n",
              "Aracaju       48748.25\n",
              "Fortaleza     37913.97\n",
              "Natal        167227.52\n",
              "Recife        51936.51\n",
              "Salvador      40596.73\n",
              "Name: Receita, dtype: float64"
            ]
          },
          "execution_count": 31,
          "metadata": {},
          "output_type": "execute_result"
        }
      ],
      "source": [
        "#Agrupamento por cidade\n",
        "df.groupby(\"Cidade\")[\"Receita\"].sum()"
      ]
    },
    {
      "cell_type": "code",
      "execution_count": 32,
      "metadata": {
        "colab": {
          "base_uri": "https://localhost:8080/",
          "height": 359
        },
        "colab_type": "code",
        "id": "wYZDthyQ6DMI",
        "outputId": "524d93a9-0246-46fe-8bfe-9451bc52b65a"
      },
      "outputs": [
        {
          "data": {
            "text/html": [
              "<div>\n",
              "<style scoped>\n",
              "    .dataframe tbody tr th:only-of-type {\n",
              "        vertical-align: middle;\n",
              "    }\n",
              "\n",
              "    .dataframe tbody tr th {\n",
              "        vertical-align: top;\n",
              "    }\n",
              "\n",
              "    .dataframe thead th {\n",
              "        text-align: right;\n",
              "    }\n",
              "</style>\n",
              "<table border=\"1\" class=\"dataframe\">\n",
              "  <thead>\n",
              "    <tr style=\"text-align: right;\">\n",
              "      <th></th>\n",
              "      <th>Cidade</th>\n",
              "      <th>Data</th>\n",
              "      <th>Vendas</th>\n",
              "      <th>LojaID</th>\n",
              "      <th>Qtde</th>\n",
              "      <th>Receita</th>\n",
              "      <th>Receita/Vendas</th>\n",
              "    </tr>\n",
              "  </thead>\n",
              "  <tbody>\n",
              "    <tr>\n",
              "      <th>7</th>\n",
              "      <td>Natal</td>\n",
              "      <td>2019-03-18</td>\n",
              "      <td>886.0</td>\n",
              "      <td>853</td>\n",
              "      <td>4</td>\n",
              "      <td>3544.0</td>\n",
              "      <td>4.0</td>\n",
              "    </tr>\n",
              "    <tr>\n",
              "      <th>55</th>\n",
              "      <td>Natal</td>\n",
              "      <td>2019-01-08</td>\n",
              "      <td>859.0</td>\n",
              "      <td>854</td>\n",
              "      <td>4</td>\n",
              "      <td>3436.0</td>\n",
              "      <td>4.0</td>\n",
              "    </tr>\n",
              "    <tr>\n",
              "      <th>51</th>\n",
              "      <td>Natal</td>\n",
              "      <td>2018-01-21</td>\n",
              "      <td>859.0</td>\n",
              "      <td>852</td>\n",
              "      <td>4</td>\n",
              "      <td>3436.0</td>\n",
              "      <td>4.0</td>\n",
              "    </tr>\n",
              "    <tr>\n",
              "      <th>30</th>\n",
              "      <td>Natal</td>\n",
              "      <td>2018-10-02</td>\n",
              "      <td>856.0</td>\n",
              "      <td>853</td>\n",
              "      <td>4</td>\n",
              "      <td>3424.0</td>\n",
              "      <td>4.0</td>\n",
              "    </tr>\n",
              "    <tr>\n",
              "      <th>41</th>\n",
              "      <td>Natal</td>\n",
              "      <td>2018-05-20</td>\n",
              "      <td>835.0</td>\n",
              "      <td>852</td>\n",
              "      <td>4</td>\n",
              "      <td>3340.0</td>\n",
              "      <td>4.0</td>\n",
              "    </tr>\n",
              "    <tr>\n",
              "      <th>38</th>\n",
              "      <td>Natal</td>\n",
              "      <td>2018-02-25</td>\n",
              "      <td>828.0</td>\n",
              "      <td>852</td>\n",
              "      <td>4</td>\n",
              "      <td>3312.0</td>\n",
              "      <td>4.0</td>\n",
              "    </tr>\n",
              "    <tr>\n",
              "      <th>10</th>\n",
              "      <td>Natal</td>\n",
              "      <td>2018-10-27</td>\n",
              "      <td>828.0</td>\n",
              "      <td>852</td>\n",
              "      <td>4</td>\n",
              "      <td>3312.0</td>\n",
              "      <td>4.0</td>\n",
              "    </tr>\n",
              "    <tr>\n",
              "      <th>69</th>\n",
              "      <td>Natal</td>\n",
              "      <td>2019-03-24</td>\n",
              "      <td>817.0</td>\n",
              "      <td>852</td>\n",
              "      <td>4</td>\n",
              "      <td>3268.0</td>\n",
              "      <td>4.0</td>\n",
              "    </tr>\n",
              "    <tr>\n",
              "      <th>62</th>\n",
              "      <td>Natal</td>\n",
              "      <td>2018-02-10</td>\n",
              "      <td>793.0</td>\n",
              "      <td>854</td>\n",
              "      <td>4</td>\n",
              "      <td>3172.0</td>\n",
              "      <td>4.0</td>\n",
              "    </tr>\n",
              "    <tr>\n",
              "      <th>52</th>\n",
              "      <td>Natal</td>\n",
              "      <td>2018-04-27</td>\n",
              "      <td>778.0</td>\n",
              "      <td>854</td>\n",
              "      <td>4</td>\n",
              "      <td>3112.0</td>\n",
              "      <td>4.0</td>\n",
              "    </tr>\n",
              "  </tbody>\n",
              "</table>\n",
              "</div>"
            ],
            "text/plain": [
              "   Cidade       Data  Vendas LojaID  Qtde  Receita  Receita/Vendas\n",
              "7   Natal 2019-03-18   886.0    853     4   3544.0             4.0\n",
              "55  Natal 2019-01-08   859.0    854     4   3436.0             4.0\n",
              "51  Natal 2018-01-21   859.0    852     4   3436.0             4.0\n",
              "30  Natal 2018-10-02   856.0    853     4   3424.0             4.0\n",
              "41  Natal 2018-05-20   835.0    852     4   3340.0             4.0\n",
              "38  Natal 2018-02-25   828.0    852     4   3312.0             4.0\n",
              "10  Natal 2018-10-27   828.0    852     4   3312.0             4.0\n",
              "69  Natal 2019-03-24   817.0    852     4   3268.0             4.0\n",
              "62  Natal 2018-02-10   793.0    854     4   3172.0             4.0\n",
              "52  Natal 2018-04-27   778.0    854     4   3112.0             4.0"
            ]
          },
          "execution_count": 32,
          "metadata": {},
          "output_type": "execute_result"
        }
      ],
      "source": [
        "#Ordenando o conjunto de dados\n",
        "df.sort_values(\"Receita\", ascending=False).head(10)"
      ]
    },
    {
      "cell_type": "markdown",
      "metadata": {
        "colab_type": "text",
        "id": "6cA7C78N6sV2"
      },
      "source": [
        "#**Trabalhando com datas**"
      ]
    },
    {
      "cell_type": "code",
      "execution_count": 33,
      "metadata": {
        "colab": {},
        "colab_type": "code",
        "id": "bRaEoWjR6deI"
      },
      "outputs": [],
      "source": [
        "#Trasnformando a coluna de data em tipo inteiro\n",
        "df[\"Data\"] = df[\"Data\"].astype(\"int64\")"
      ]
    },
    {
      "cell_type": "code",
      "execution_count": 34,
      "metadata": {
        "colab": {
          "base_uri": "https://localhost:8080/",
          "height": 153
        },
        "colab_type": "code",
        "id": "dz5kfhncHi7Y",
        "outputId": "275eb110-54a8-450e-b8c6-165961d670b7"
      },
      "outputs": [
        {
          "data": {
            "text/plain": [
              "Cidade             object\n",
              "Data                int64\n",
              "Vendas            float64\n",
              "LojaID             object\n",
              "Qtde                int64\n",
              "Receita           float64\n",
              "Receita/Vendas    float64\n",
              "dtype: object"
            ]
          },
          "execution_count": 34,
          "metadata": {},
          "output_type": "execute_result"
        }
      ],
      "source": [
        "#Verificando o tipo de dado de cada coluna\n",
        "df.dtypes"
      ]
    },
    {
      "cell_type": "code",
      "execution_count": 35,
      "metadata": {
        "colab": {},
        "colab_type": "code",
        "id": "oQhrdhlyHkED"
      },
      "outputs": [],
      "source": [
        "#Transformando coluna de data em data\n",
        "df[\"Data\"] = pd.to_datetime(df[\"Data\"])"
      ]
    },
    {
      "cell_type": "code",
      "execution_count": 36,
      "metadata": {
        "colab": {
          "base_uri": "https://localhost:8080/",
          "height": 153
        },
        "colab_type": "code",
        "id": "F5zeaq6tH1P0",
        "outputId": "5b8043b2-c63b-4322-df5a-dd41737591c6"
      },
      "outputs": [
        {
          "data": {
            "text/plain": [
              "Cidade                    object\n",
              "Data              datetime64[ns]\n",
              "Vendas                   float64\n",
              "LojaID                    object\n",
              "Qtde                       int64\n",
              "Receita                  float64\n",
              "Receita/Vendas           float64\n",
              "dtype: object"
            ]
          },
          "execution_count": 36,
          "metadata": {},
          "output_type": "execute_result"
        }
      ],
      "source": [
        "df.dtypes"
      ]
    },
    {
      "cell_type": "code",
      "execution_count": 37,
      "metadata": {
        "colab": {
          "base_uri": "https://localhost:8080/",
          "height": 85
        },
        "colab_type": "code",
        "id": "c027o0jyH2qg",
        "outputId": "4db1851a-4712-44b6-f297-ec2c16d61f67"
      },
      "outputs": [
        {
          "data": {
            "text/plain": [
              "Data\n",
              "2018    118176.53\n",
              "2019    228246.45\n",
              "Name: Receita, dtype: float64"
            ]
          },
          "execution_count": 37,
          "metadata": {},
          "output_type": "execute_result"
        }
      ],
      "source": [
        "#Agrupamento por ano\n",
        "df.groupby(df[\"Data\"].dt.year)[\"Receita\"].sum()"
      ]
    },
    {
      "cell_type": "code",
      "execution_count": 38,
      "metadata": {
        "colab": {},
        "colab_type": "code",
        "id": "kX_HYKgQIEPD"
      },
      "outputs": [],
      "source": [
        "#Criando uma nova coluna com o ano\n",
        "df[\"Ano_Venda\"] = df[\"Data\"].dt.year"
      ]
    },
    {
      "cell_type": "code",
      "execution_count": 39,
      "metadata": {
        "colab": {
          "base_uri": "https://localhost:8080/",
          "height": 204
        },
        "colab_type": "code",
        "id": "MJjiTggaISUi",
        "outputId": "664952a0-57c6-4f6d-ad6f-03a5d846d557"
      },
      "outputs": [
        {
          "data": {
            "text/html": [
              "<div>\n",
              "<style scoped>\n",
              "    .dataframe tbody tr th:only-of-type {\n",
              "        vertical-align: middle;\n",
              "    }\n",
              "\n",
              "    .dataframe tbody tr th {\n",
              "        vertical-align: top;\n",
              "    }\n",
              "\n",
              "    .dataframe thead th {\n",
              "        text-align: right;\n",
              "    }\n",
              "</style>\n",
              "<table border=\"1\" class=\"dataframe\">\n",
              "  <thead>\n",
              "    <tr style=\"text-align: right;\">\n",
              "      <th></th>\n",
              "      <th>Cidade</th>\n",
              "      <th>Data</th>\n",
              "      <th>Vendas</th>\n",
              "      <th>LojaID</th>\n",
              "      <th>Qtde</th>\n",
              "      <th>Receita</th>\n",
              "      <th>Receita/Vendas</th>\n",
              "      <th>Ano_Venda</th>\n",
              "    </tr>\n",
              "  </thead>\n",
              "  <tbody>\n",
              "    <tr>\n",
              "      <th>219</th>\n",
              "      <td>Salvador</td>\n",
              "      <td>2019-01-02</td>\n",
              "      <td>19.67</td>\n",
              "      <td>1037</td>\n",
              "      <td>2</td>\n",
              "      <td>39.34</td>\n",
              "      <td>2.0</td>\n",
              "      <td>2019</td>\n",
              "    </tr>\n",
              "    <tr>\n",
              "      <th>14</th>\n",
              "      <td>Recife</td>\n",
              "      <td>2019-01-12</td>\n",
              "      <td>102.91</td>\n",
              "      <td>982</td>\n",
              "      <td>3</td>\n",
              "      <td>308.73</td>\n",
              "      <td>3.0</td>\n",
              "      <td>2019</td>\n",
              "    </tr>\n",
              "    <tr>\n",
              "      <th>177</th>\n",
              "      <td>Natal</td>\n",
              "      <td>2019-01-02</td>\n",
              "      <td>41.19</td>\n",
              "      <td>1037</td>\n",
              "      <td>2</td>\n",
              "      <td>82.38</td>\n",
              "      <td>2.0</td>\n",
              "      <td>2019</td>\n",
              "    </tr>\n",
              "    <tr>\n",
              "      <th>51</th>\n",
              "      <td>Salvador</td>\n",
              "      <td>2019-01-01</td>\n",
              "      <td>13.37</td>\n",
              "      <td>1037</td>\n",
              "      <td>2</td>\n",
              "      <td>26.74</td>\n",
              "      <td>2.0</td>\n",
              "      <td>2019</td>\n",
              "    </tr>\n",
              "    <tr>\n",
              "      <th>75</th>\n",
              "      <td>Recife</td>\n",
              "      <td>2019-01-01</td>\n",
              "      <td>170.29</td>\n",
              "      <td>981</td>\n",
              "      <td>8</td>\n",
              "      <td>1362.32</td>\n",
              "      <td>8.0</td>\n",
              "      <td>2019</td>\n",
              "    </tr>\n",
              "  </tbody>\n",
              "</table>\n",
              "</div>"
            ],
            "text/plain": [
              "       Cidade       Data  Vendas LojaID  Qtde  Receita  Receita/Vendas  \\\n",
              "219  Salvador 2019-01-02   19.67   1037     2    39.34             2.0   \n",
              "14     Recife 2019-01-12  102.91    982     3   308.73             3.0   \n",
              "177     Natal 2019-01-02   41.19   1037     2    82.38             2.0   \n",
              "51   Salvador 2019-01-01   13.37   1037     2    26.74             2.0   \n",
              "75     Recife 2019-01-01  170.29    981     8  1362.32             8.0   \n",
              "\n",
              "     Ano_Venda  \n",
              "219       2019  \n",
              "14        2019  \n",
              "177       2019  \n",
              "51        2019  \n",
              "75        2019  "
            ]
          },
          "execution_count": 39,
          "metadata": {},
          "output_type": "execute_result"
        }
      ],
      "source": [
        "df.sample(5)"
      ]
    },
    {
      "cell_type": "code",
      "execution_count": 40,
      "metadata": {
        "colab": {},
        "colab_type": "code",
        "id": "QPNcE_6rIT6F"
      },
      "outputs": [],
      "source": [
        "#Extraindo o mês e o dia\n",
        "df[\"mes_venda\"], df[\"dia_venda\"] = (df[\"Data\"].dt.month, df[\"Data\"].dt.day)"
      ]
    },
    {
      "cell_type": "code",
      "execution_count": 41,
      "metadata": {
        "colab": {
          "base_uri": "https://localhost:8080/",
          "height": 204
        },
        "colab_type": "code",
        "id": "9AOp3NNfIrah",
        "outputId": "be23b592-06ec-4eab-88f0-46da74f85544"
      },
      "outputs": [
        {
          "data": {
            "text/html": [
              "<div>\n",
              "<style scoped>\n",
              "    .dataframe tbody tr th:only-of-type {\n",
              "        vertical-align: middle;\n",
              "    }\n",
              "\n",
              "    .dataframe tbody tr th {\n",
              "        vertical-align: top;\n",
              "    }\n",
              "\n",
              "    .dataframe thead th {\n",
              "        text-align: right;\n",
              "    }\n",
              "</style>\n",
              "<table border=\"1\" class=\"dataframe\">\n",
              "  <thead>\n",
              "    <tr style=\"text-align: right;\">\n",
              "      <th></th>\n",
              "      <th>Cidade</th>\n",
              "      <th>Data</th>\n",
              "      <th>Vendas</th>\n",
              "      <th>LojaID</th>\n",
              "      <th>Qtde</th>\n",
              "      <th>Receita</th>\n",
              "      <th>Receita/Vendas</th>\n",
              "      <th>Ano_Venda</th>\n",
              "      <th>mes_venda</th>\n",
              "      <th>dia_venda</th>\n",
              "    </tr>\n",
              "  </thead>\n",
              "  <tbody>\n",
              "    <tr>\n",
              "      <th>178</th>\n",
              "      <td>Salvador</td>\n",
              "      <td>2019-01-02</td>\n",
              "      <td>39.28</td>\n",
              "      <td>1037</td>\n",
              "      <td>3</td>\n",
              "      <td>117.84</td>\n",
              "      <td>3.0</td>\n",
              "      <td>2019</td>\n",
              "      <td>1</td>\n",
              "      <td>2</td>\n",
              "    </tr>\n",
              "    <tr>\n",
              "      <th>35</th>\n",
              "      <td>Salvador</td>\n",
              "      <td>2019-01-01</td>\n",
              "      <td>241.45</td>\n",
              "      <td>1037</td>\n",
              "      <td>1</td>\n",
              "      <td>241.45</td>\n",
              "      <td>1.0</td>\n",
              "      <td>2019</td>\n",
              "      <td>1</td>\n",
              "      <td>1</td>\n",
              "    </tr>\n",
              "    <tr>\n",
              "      <th>13</th>\n",
              "      <td>Salvador</td>\n",
              "      <td>2019-02-12</td>\n",
              "      <td>39.29</td>\n",
              "      <td>1035</td>\n",
              "      <td>1</td>\n",
              "      <td>39.29</td>\n",
              "      <td>1.0</td>\n",
              "      <td>2019</td>\n",
              "      <td>2</td>\n",
              "      <td>12</td>\n",
              "    </tr>\n",
              "    <tr>\n",
              "      <th>7</th>\n",
              "      <td>Aracaju</td>\n",
              "      <td>2019-01-01</td>\n",
              "      <td>172.22</td>\n",
              "      <td>1522</td>\n",
              "      <td>6</td>\n",
              "      <td>1033.32</td>\n",
              "      <td>6.0</td>\n",
              "      <td>2019</td>\n",
              "      <td>1</td>\n",
              "      <td>1</td>\n",
              "    </tr>\n",
              "    <tr>\n",
              "      <th>56</th>\n",
              "      <td>Recife</td>\n",
              "      <td>2019-01-01</td>\n",
              "      <td>7.98</td>\n",
              "      <td>983</td>\n",
              "      <td>5</td>\n",
              "      <td>39.90</td>\n",
              "      <td>5.0</td>\n",
              "      <td>2019</td>\n",
              "      <td>1</td>\n",
              "      <td>1</td>\n",
              "    </tr>\n",
              "  </tbody>\n",
              "</table>\n",
              "</div>"
            ],
            "text/plain": [
              "       Cidade       Data  Vendas LojaID  Qtde  Receita  Receita/Vendas  \\\n",
              "178  Salvador 2019-01-02   39.28   1037     3   117.84             3.0   \n",
              "35   Salvador 2019-01-01  241.45   1037     1   241.45             1.0   \n",
              "13   Salvador 2019-02-12   39.29   1035     1    39.29             1.0   \n",
              "7     Aracaju 2019-01-01  172.22   1522     6  1033.32             6.0   \n",
              "56     Recife 2019-01-01    7.98    983     5    39.90             5.0   \n",
              "\n",
              "     Ano_Venda  mes_venda  dia_venda  \n",
              "178       2019          1          2  \n",
              "35        2019          1          1  \n",
              "13        2019          2         12  \n",
              "7         2019          1          1  \n",
              "56        2019          1          1  "
            ]
          },
          "execution_count": 41,
          "metadata": {},
          "output_type": "execute_result"
        }
      ],
      "source": [
        "df.sample(5)"
      ]
    },
    {
      "cell_type": "code",
      "execution_count": 42,
      "metadata": {
        "colab": {
          "base_uri": "https://localhost:8080/",
          "height": 34
        },
        "colab_type": "code",
        "id": "r0la0X6aIuTR",
        "outputId": "bd244f1b-6e69-4991-c290-f071af4e0d60"
      },
      "outputs": [
        {
          "data": {
            "text/plain": [
              "Timestamp('2018-01-01 00:00:00')"
            ]
          },
          "execution_count": 42,
          "metadata": {},
          "output_type": "execute_result"
        }
      ],
      "source": [
        "#Retornando a data mais antiga\n",
        "df[\"Data\"].min()"
      ]
    },
    {
      "cell_type": "code",
      "execution_count": 43,
      "metadata": {
        "colab": {},
        "colab_type": "code",
        "id": "7fxtFDflI7L0"
      },
      "outputs": [],
      "source": [
        "#Calculando a diferença de dias\n",
        "df[\"diferenca_dias\"] = df[\"Data\"] - df[\"Data\"].min()"
      ]
    },
    {
      "cell_type": "code",
      "execution_count": 44,
      "metadata": {
        "colab": {
          "base_uri": "https://localhost:8080/",
          "height": 204
        },
        "colab_type": "code",
        "id": "997DVEidJKNG",
        "outputId": "3cdb03c2-cb8d-4891-b10b-27474beb1806"
      },
      "outputs": [
        {
          "data": {
            "text/html": [
              "<div>\n",
              "<style scoped>\n",
              "    .dataframe tbody tr th:only-of-type {\n",
              "        vertical-align: middle;\n",
              "    }\n",
              "\n",
              "    .dataframe tbody tr th {\n",
              "        vertical-align: top;\n",
              "    }\n",
              "\n",
              "    .dataframe thead th {\n",
              "        text-align: right;\n",
              "    }\n",
              "</style>\n",
              "<table border=\"1\" class=\"dataframe\">\n",
              "  <thead>\n",
              "    <tr style=\"text-align: right;\">\n",
              "      <th></th>\n",
              "      <th>Cidade</th>\n",
              "      <th>Data</th>\n",
              "      <th>Vendas</th>\n",
              "      <th>LojaID</th>\n",
              "      <th>Qtde</th>\n",
              "      <th>Receita</th>\n",
              "      <th>Receita/Vendas</th>\n",
              "      <th>Ano_Venda</th>\n",
              "      <th>mes_venda</th>\n",
              "      <th>dia_venda</th>\n",
              "      <th>diferenca_dias</th>\n",
              "    </tr>\n",
              "  </thead>\n",
              "  <tbody>\n",
              "    <tr>\n",
              "      <th>147</th>\n",
              "      <td>Salvador</td>\n",
              "      <td>2019-01-02</td>\n",
              "      <td>34.50</td>\n",
              "      <td>1035</td>\n",
              "      <td>1</td>\n",
              "      <td>34.50</td>\n",
              "      <td>1.0</td>\n",
              "      <td>2019</td>\n",
              "      <td>1</td>\n",
              "      <td>2</td>\n",
              "      <td>366 days</td>\n",
              "    </tr>\n",
              "    <tr>\n",
              "      <th>99</th>\n",
              "      <td>Aracaju</td>\n",
              "      <td>2018-01-01</td>\n",
              "      <td>139.32</td>\n",
              "      <td>1521</td>\n",
              "      <td>3</td>\n",
              "      <td>417.96</td>\n",
              "      <td>3.0</td>\n",
              "      <td>2018</td>\n",
              "      <td>1</td>\n",
              "      <td>1</td>\n",
              "      <td>0 days</td>\n",
              "    </tr>\n",
              "    <tr>\n",
              "      <th>111</th>\n",
              "      <td>Salvador</td>\n",
              "      <td>2019-03-02</td>\n",
              "      <td>147.35</td>\n",
              "      <td>1037</td>\n",
              "      <td>2</td>\n",
              "      <td>294.70</td>\n",
              "      <td>2.0</td>\n",
              "      <td>2019</td>\n",
              "      <td>3</td>\n",
              "      <td>2</td>\n",
              "      <td>425 days</td>\n",
              "    </tr>\n",
              "    <tr>\n",
              "      <th>130</th>\n",
              "      <td>Fortaleza</td>\n",
              "      <td>2019-03-02</td>\n",
              "      <td>12.36</td>\n",
              "      <td>983</td>\n",
              "      <td>4</td>\n",
              "      <td>49.44</td>\n",
              "      <td>4.0</td>\n",
              "      <td>2019</td>\n",
              "      <td>3</td>\n",
              "      <td>2</td>\n",
              "      <td>425 days</td>\n",
              "    </tr>\n",
              "    <tr>\n",
              "      <th>101</th>\n",
              "      <td>Fortaleza</td>\n",
              "      <td>2019-01-01</td>\n",
              "      <td>11.67</td>\n",
              "      <td>1005</td>\n",
              "      <td>4</td>\n",
              "      <td>46.68</td>\n",
              "      <td>4.0</td>\n",
              "      <td>2019</td>\n",
              "      <td>1</td>\n",
              "      <td>1</td>\n",
              "      <td>365 days</td>\n",
              "    </tr>\n",
              "  </tbody>\n",
              "</table>\n",
              "</div>"
            ],
            "text/plain": [
              "        Cidade       Data  Vendas LojaID  Qtde  Receita  Receita/Vendas  \\\n",
              "147   Salvador 2019-01-02   34.50   1035     1    34.50             1.0   \n",
              "99     Aracaju 2018-01-01  139.32   1521     3   417.96             3.0   \n",
              "111   Salvador 2019-03-02  147.35   1037     2   294.70             2.0   \n",
              "130  Fortaleza 2019-03-02   12.36    983     4    49.44             4.0   \n",
              "101  Fortaleza 2019-01-01   11.67   1005     4    46.68             4.0   \n",
              "\n",
              "     Ano_Venda  mes_venda  dia_venda diferenca_dias  \n",
              "147       2019          1          2       366 days  \n",
              "99        2018          1          1         0 days  \n",
              "111       2019          3          2       425 days  \n",
              "130       2019          3          2       425 days  \n",
              "101       2019          1          1       365 days  "
            ]
          },
          "execution_count": 44,
          "metadata": {},
          "output_type": "execute_result"
        }
      ],
      "source": [
        "df.sample(5)"
      ]
    },
    {
      "cell_type": "code",
      "execution_count": 45,
      "metadata": {
        "colab": {},
        "colab_type": "code",
        "id": "KHAOU_EuJLkb"
      },
      "outputs": [],
      "source": [
        "#Criando a coluna de trimestre\n",
        "df[\"trimestre_venda\"] = df[\"Data\"].dt.quarter"
      ]
    },
    {
      "cell_type": "code",
      "execution_count": 46,
      "metadata": {
        "colab": {
          "base_uri": "https://localhost:8080/",
          "height": 204
        },
        "colab_type": "code",
        "id": "OWZos9y5JbDQ",
        "outputId": "79806c1f-ed51-4705-d0b9-cbb2659f5844"
      },
      "outputs": [
        {
          "data": {
            "text/html": [
              "<div>\n",
              "<style scoped>\n",
              "    .dataframe tbody tr th:only-of-type {\n",
              "        vertical-align: middle;\n",
              "    }\n",
              "\n",
              "    .dataframe tbody tr th {\n",
              "        vertical-align: top;\n",
              "    }\n",
              "\n",
              "    .dataframe thead th {\n",
              "        text-align: right;\n",
              "    }\n",
              "</style>\n",
              "<table border=\"1\" class=\"dataframe\">\n",
              "  <thead>\n",
              "    <tr style=\"text-align: right;\">\n",
              "      <th></th>\n",
              "      <th>Cidade</th>\n",
              "      <th>Data</th>\n",
              "      <th>Vendas</th>\n",
              "      <th>LojaID</th>\n",
              "      <th>Qtde</th>\n",
              "      <th>Receita</th>\n",
              "      <th>Receita/Vendas</th>\n",
              "      <th>Ano_Venda</th>\n",
              "      <th>mes_venda</th>\n",
              "      <th>dia_venda</th>\n",
              "      <th>diferenca_dias</th>\n",
              "      <th>trimestre_venda</th>\n",
              "    </tr>\n",
              "  </thead>\n",
              "  <tbody>\n",
              "    <tr>\n",
              "      <th>90</th>\n",
              "      <td>Salvador</td>\n",
              "      <td>2019-01-01</td>\n",
              "      <td>100.54</td>\n",
              "      <td>1036</td>\n",
              "      <td>2</td>\n",
              "      <td>201.08</td>\n",
              "      <td>2.0</td>\n",
              "      <td>2019</td>\n",
              "      <td>1</td>\n",
              "      <td>1</td>\n",
              "      <td>365 days</td>\n",
              "      <td>1</td>\n",
              "    </tr>\n",
              "    <tr>\n",
              "      <th>11</th>\n",
              "      <td>Aracaju</td>\n",
              "      <td>2019-01-01</td>\n",
              "      <td>161.53</td>\n",
              "      <td>1520</td>\n",
              "      <td>4</td>\n",
              "      <td>646.12</td>\n",
              "      <td>4.0</td>\n",
              "      <td>2019</td>\n",
              "      <td>1</td>\n",
              "      <td>1</td>\n",
              "      <td>365 days</td>\n",
              "      <td>1</td>\n",
              "    </tr>\n",
              "    <tr>\n",
              "      <th>33</th>\n",
              "      <td>Salvador</td>\n",
              "      <td>2019-01-01</td>\n",
              "      <td>144.19</td>\n",
              "      <td>1035</td>\n",
              "      <td>2</td>\n",
              "      <td>288.38</td>\n",
              "      <td>2.0</td>\n",
              "      <td>2019</td>\n",
              "      <td>1</td>\n",
              "      <td>1</td>\n",
              "      <td>365 days</td>\n",
              "      <td>1</td>\n",
              "    </tr>\n",
              "    <tr>\n",
              "      <th>128</th>\n",
              "      <td>Natal</td>\n",
              "      <td>2019-01-02</td>\n",
              "      <td>36.84</td>\n",
              "      <td>1034</td>\n",
              "      <td>1</td>\n",
              "      <td>36.84</td>\n",
              "      <td>1.0</td>\n",
              "      <td>2019</td>\n",
              "      <td>1</td>\n",
              "      <td>2</td>\n",
              "      <td>366 days</td>\n",
              "      <td>1</td>\n",
              "    </tr>\n",
              "    <tr>\n",
              "      <th>117</th>\n",
              "      <td>Natal</td>\n",
              "      <td>2019-01-02</td>\n",
              "      <td>39.41</td>\n",
              "      <td>1034</td>\n",
              "      <td>1</td>\n",
              "      <td>39.41</td>\n",
              "      <td>1.0</td>\n",
              "      <td>2019</td>\n",
              "      <td>1</td>\n",
              "      <td>2</td>\n",
              "      <td>366 days</td>\n",
              "      <td>1</td>\n",
              "    </tr>\n",
              "  </tbody>\n",
              "</table>\n",
              "</div>"
            ],
            "text/plain": [
              "       Cidade       Data  Vendas LojaID  Qtde  Receita  Receita/Vendas  \\\n",
              "90   Salvador 2019-01-01  100.54   1036     2   201.08             2.0   \n",
              "11    Aracaju 2019-01-01  161.53   1520     4   646.12             4.0   \n",
              "33   Salvador 2019-01-01  144.19   1035     2   288.38             2.0   \n",
              "128     Natal 2019-01-02   36.84   1034     1    36.84             1.0   \n",
              "117     Natal 2019-01-02   39.41   1034     1    39.41             1.0   \n",
              "\n",
              "     Ano_Venda  mes_venda  dia_venda diferenca_dias  trimestre_venda  \n",
              "90        2019          1          1       365 days                1  \n",
              "11        2019          1          1       365 days                1  \n",
              "33        2019          1          1       365 days                1  \n",
              "128       2019          1          2       366 days                1  \n",
              "117       2019          1          2       366 days                1  "
            ]
          },
          "execution_count": 46,
          "metadata": {},
          "output_type": "execute_result"
        }
      ],
      "source": [
        "df.sample(5)"
      ]
    },
    {
      "cell_type": "code",
      "execution_count": 47,
      "metadata": {
        "colab": {},
        "colab_type": "code",
        "id": "ie2WTtU5Jc-G"
      },
      "outputs": [],
      "source": [
        "#Filtrando as vendas de 2019 do mês de março\n",
        "vendas_marco_19 = df.loc[(df[\"Data\"].dt.year == 2019) & (df[\"Data\"].dt.month == 3)]"
      ]
    },
    {
      "cell_type": "code",
      "execution_count": 48,
      "metadata": {
        "colab": {
          "base_uri": "https://localhost:8080/",
          "height": 669
        },
        "colab_type": "code",
        "id": "4x6GgzC9KB_e",
        "outputId": "c65a0365-31d1-4876-96a9-803c355a4bed"
      },
      "outputs": [
        {
          "data": {
            "text/html": [
              "<div>\n",
              "<style scoped>\n",
              "    .dataframe tbody tr th:only-of-type {\n",
              "        vertical-align: middle;\n",
              "    }\n",
              "\n",
              "    .dataframe tbody tr th {\n",
              "        vertical-align: top;\n",
              "    }\n",
              "\n",
              "    .dataframe thead th {\n",
              "        text-align: right;\n",
              "    }\n",
              "</style>\n",
              "<table border=\"1\" class=\"dataframe\">\n",
              "  <thead>\n",
              "    <tr style=\"text-align: right;\">\n",
              "      <th></th>\n",
              "      <th>Cidade</th>\n",
              "      <th>Data</th>\n",
              "      <th>Vendas</th>\n",
              "      <th>LojaID</th>\n",
              "      <th>Qtde</th>\n",
              "      <th>Receita</th>\n",
              "      <th>Receita/Vendas</th>\n",
              "      <th>Ano_Venda</th>\n",
              "      <th>mes_venda</th>\n",
              "      <th>dia_venda</th>\n",
              "      <th>diferenca_dias</th>\n",
              "      <th>trimestre_venda</th>\n",
              "    </tr>\n",
              "  </thead>\n",
              "  <tbody>\n",
              "    <tr>\n",
              "      <th>134</th>\n",
              "      <td>Fortaleza</td>\n",
              "      <td>2019-03-02</td>\n",
              "      <td>195.18</td>\n",
              "      <td>980</td>\n",
              "      <td>5</td>\n",
              "      <td>975.90</td>\n",
              "      <td>5.0</td>\n",
              "      <td>2019</td>\n",
              "      <td>3</td>\n",
              "      <td>2</td>\n",
              "      <td>425 days</td>\n",
              "      <td>1</td>\n",
              "    </tr>\n",
              "    <tr>\n",
              "      <th>29</th>\n",
              "      <td>Natal</td>\n",
              "      <td>2019-03-09</td>\n",
              "      <td>646.00</td>\n",
              "      <td>854</td>\n",
              "      <td>2</td>\n",
              "      <td>1292.00</td>\n",
              "      <td>2.0</td>\n",
              "      <td>2019</td>\n",
              "      <td>3</td>\n",
              "      <td>9</td>\n",
              "      <td>432 days</td>\n",
              "      <td>1</td>\n",
              "    </tr>\n",
              "    <tr>\n",
              "      <th>134</th>\n",
              "      <td>Salvador</td>\n",
              "      <td>2019-03-02</td>\n",
              "      <td>125.90</td>\n",
              "      <td>1036</td>\n",
              "      <td>1</td>\n",
              "      <td>125.90</td>\n",
              "      <td>1.0</td>\n",
              "      <td>2019</td>\n",
              "      <td>3</td>\n",
              "      <td>2</td>\n",
              "      <td>425 days</td>\n",
              "      <td>1</td>\n",
              "    </tr>\n",
              "    <tr>\n",
              "      <th>140</th>\n",
              "      <td>Salvador</td>\n",
              "      <td>2019-03-02</td>\n",
              "      <td>20.79</td>\n",
              "      <td>1036</td>\n",
              "      <td>2</td>\n",
              "      <td>41.58</td>\n",
              "      <td>2.0</td>\n",
              "      <td>2019</td>\n",
              "      <td>3</td>\n",
              "      <td>2</td>\n",
              "      <td>425 days</td>\n",
              "      <td>1</td>\n",
              "    </tr>\n",
              "    <tr>\n",
              "      <th>127</th>\n",
              "      <td>Recife</td>\n",
              "      <td>2019-03-02</td>\n",
              "      <td>39.56</td>\n",
              "      <td>982</td>\n",
              "      <td>8</td>\n",
              "      <td>316.48</td>\n",
              "      <td>8.0</td>\n",
              "      <td>2019</td>\n",
              "      <td>3</td>\n",
              "      <td>2</td>\n",
              "      <td>425 days</td>\n",
              "      <td>1</td>\n",
              "    </tr>\n",
              "    <tr>\n",
              "      <th>8</th>\n",
              "      <td>Natal</td>\n",
              "      <td>2019-03-27</td>\n",
              "      <td>667.00</td>\n",
              "      <td>852</td>\n",
              "      <td>4</td>\n",
              "      <td>2668.00</td>\n",
              "      <td>4.0</td>\n",
              "      <td>2019</td>\n",
              "      <td>3</td>\n",
              "      <td>27</td>\n",
              "      <td>450 days</td>\n",
              "      <td>1</td>\n",
              "    </tr>\n",
              "    <tr>\n",
              "      <th>141</th>\n",
              "      <td>Salvador</td>\n",
              "      <td>2019-03-02</td>\n",
              "      <td>9.08</td>\n",
              "      <td>1036</td>\n",
              "      <td>1</td>\n",
              "      <td>9.08</td>\n",
              "      <td>1.0</td>\n",
              "      <td>2019</td>\n",
              "      <td>3</td>\n",
              "      <td>2</td>\n",
              "      <td>425 days</td>\n",
              "      <td>1</td>\n",
              "    </tr>\n",
              "    <tr>\n",
              "      <th>133</th>\n",
              "      <td>Salvador</td>\n",
              "      <td>2019-03-02</td>\n",
              "      <td>153.71</td>\n",
              "      <td>1035</td>\n",
              "      <td>1</td>\n",
              "      <td>153.71</td>\n",
              "      <td>1.0</td>\n",
              "      <td>2019</td>\n",
              "      <td>3</td>\n",
              "      <td>2</td>\n",
              "      <td>425 days</td>\n",
              "      <td>1</td>\n",
              "    </tr>\n",
              "    <tr>\n",
              "      <th>46</th>\n",
              "      <td>Natal</td>\n",
              "      <td>2019-03-26</td>\n",
              "      <td>753.00</td>\n",
              "      <td>853</td>\n",
              "      <td>2</td>\n",
              "      <td>1506.00</td>\n",
              "      <td>2.0</td>\n",
              "      <td>2019</td>\n",
              "      <td>3</td>\n",
              "      <td>26</td>\n",
              "      <td>449 days</td>\n",
              "      <td>1</td>\n",
              "    </tr>\n",
              "    <tr>\n",
              "      <th>131</th>\n",
              "      <td>Recife</td>\n",
              "      <td>2019-03-02</td>\n",
              "      <td>139.07</td>\n",
              "      <td>982</td>\n",
              "      <td>6</td>\n",
              "      <td>834.42</td>\n",
              "      <td>6.0</td>\n",
              "      <td>2019</td>\n",
              "      <td>3</td>\n",
              "      <td>2</td>\n",
              "      <td>425 days</td>\n",
              "      <td>1</td>\n",
              "    </tr>\n",
              "    <tr>\n",
              "      <th>136</th>\n",
              "      <td>Recife</td>\n",
              "      <td>2019-03-02</td>\n",
              "      <td>39.09</td>\n",
              "      <td>982</td>\n",
              "      <td>4</td>\n",
              "      <td>156.36</td>\n",
              "      <td>4.0</td>\n",
              "      <td>2019</td>\n",
              "      <td>3</td>\n",
              "      <td>2</td>\n",
              "      <td>425 days</td>\n",
              "      <td>1</td>\n",
              "    </tr>\n",
              "    <tr>\n",
              "      <th>111</th>\n",
              "      <td>Salvador</td>\n",
              "      <td>2019-03-02</td>\n",
              "      <td>147.35</td>\n",
              "      <td>1037</td>\n",
              "      <td>2</td>\n",
              "      <td>294.70</td>\n",
              "      <td>2.0</td>\n",
              "      <td>2019</td>\n",
              "      <td>3</td>\n",
              "      <td>2</td>\n",
              "      <td>425 days</td>\n",
              "      <td>1</td>\n",
              "    </tr>\n",
              "    <tr>\n",
              "      <th>117</th>\n",
              "      <td>Salvador</td>\n",
              "      <td>2019-03-02</td>\n",
              "      <td>39.41</td>\n",
              "      <td>1034</td>\n",
              "      <td>1</td>\n",
              "      <td>39.41</td>\n",
              "      <td>1.0</td>\n",
              "      <td>2019</td>\n",
              "      <td>3</td>\n",
              "      <td>2</td>\n",
              "      <td>425 days</td>\n",
              "      <td>1</td>\n",
              "    </tr>\n",
              "    <tr>\n",
              "      <th>109</th>\n",
              "      <td>Fortaleza</td>\n",
              "      <td>2019-03-02</td>\n",
              "      <td>18.90</td>\n",
              "      <td>982</td>\n",
              "      <td>6</td>\n",
              "      <td>113.40</td>\n",
              "      <td>6.0</td>\n",
              "      <td>2019</td>\n",
              "      <td>3</td>\n",
              "      <td>2</td>\n",
              "      <td>425 days</td>\n",
              "      <td>1</td>\n",
              "    </tr>\n",
              "    <tr>\n",
              "      <th>119</th>\n",
              "      <td>Recife</td>\n",
              "      <td>2019-03-02</td>\n",
              "      <td>152.30</td>\n",
              "      <td>982</td>\n",
              "      <td>7</td>\n",
              "      <td>1066.10</td>\n",
              "      <td>7.0</td>\n",
              "      <td>2019</td>\n",
              "      <td>3</td>\n",
              "      <td>2</td>\n",
              "      <td>425 days</td>\n",
              "      <td>1</td>\n",
              "    </tr>\n",
              "    <tr>\n",
              "      <th>128</th>\n",
              "      <td>Salvador</td>\n",
              "      <td>2019-03-02</td>\n",
              "      <td>36.84</td>\n",
              "      <td>1034</td>\n",
              "      <td>1</td>\n",
              "      <td>36.84</td>\n",
              "      <td>1.0</td>\n",
              "      <td>2019</td>\n",
              "      <td>3</td>\n",
              "      <td>2</td>\n",
              "      <td>425 days</td>\n",
              "      <td>1</td>\n",
              "    </tr>\n",
              "    <tr>\n",
              "      <th>110</th>\n",
              "      <td>Fortaleza</td>\n",
              "      <td>2019-03-02</td>\n",
              "      <td>51.98</td>\n",
              "      <td>983</td>\n",
              "      <td>6</td>\n",
              "      <td>311.88</td>\n",
              "      <td>6.0</td>\n",
              "      <td>2019</td>\n",
              "      <td>3</td>\n",
              "      <td>2</td>\n",
              "      <td>425 days</td>\n",
              "      <td>1</td>\n",
              "    </tr>\n",
              "    <tr>\n",
              "      <th>118</th>\n",
              "      <td>Fortaleza</td>\n",
              "      <td>2019-03-02</td>\n",
              "      <td>17.70</td>\n",
              "      <td>981</td>\n",
              "      <td>5</td>\n",
              "      <td>88.50</td>\n",
              "      <td>5.0</td>\n",
              "      <td>2019</td>\n",
              "      <td>3</td>\n",
              "      <td>2</td>\n",
              "      <td>425 days</td>\n",
              "      <td>1</td>\n",
              "    </tr>\n",
              "    <tr>\n",
              "      <th>135</th>\n",
              "      <td>Fortaleza</td>\n",
              "      <td>2019-03-02</td>\n",
              "      <td>10.79</td>\n",
              "      <td>983</td>\n",
              "      <td>5</td>\n",
              "      <td>53.95</td>\n",
              "      <td>5.0</td>\n",
              "      <td>2019</td>\n",
              "      <td>3</td>\n",
              "      <td>2</td>\n",
              "      <td>425 days</td>\n",
              "      <td>1</td>\n",
              "    </tr>\n",
              "    <tr>\n",
              "      <th>129</th>\n",
              "      <td>Recife</td>\n",
              "      <td>2019-03-02</td>\n",
              "      <td>35.34</td>\n",
              "      <td>982</td>\n",
              "      <td>7</td>\n",
              "      <td>247.38</td>\n",
              "      <td>7.0</td>\n",
              "      <td>2019</td>\n",
              "      <td>3</td>\n",
              "      <td>2</td>\n",
              "      <td>425 days</td>\n",
              "      <td>1</td>\n",
              "    </tr>\n",
              "  </tbody>\n",
              "</table>\n",
              "</div>"
            ],
            "text/plain": [
              "        Cidade       Data  Vendas LojaID  Qtde  Receita  Receita/Vendas  \\\n",
              "134  Fortaleza 2019-03-02  195.18    980     5   975.90             5.0   \n",
              "29       Natal 2019-03-09  646.00    854     2  1292.00             2.0   \n",
              "134   Salvador 2019-03-02  125.90   1036     1   125.90             1.0   \n",
              "140   Salvador 2019-03-02   20.79   1036     2    41.58             2.0   \n",
              "127     Recife 2019-03-02   39.56    982     8   316.48             8.0   \n",
              "8        Natal 2019-03-27  667.00    852     4  2668.00             4.0   \n",
              "141   Salvador 2019-03-02    9.08   1036     1     9.08             1.0   \n",
              "133   Salvador 2019-03-02  153.71   1035     1   153.71             1.0   \n",
              "46       Natal 2019-03-26  753.00    853     2  1506.00             2.0   \n",
              "131     Recife 2019-03-02  139.07    982     6   834.42             6.0   \n",
              "136     Recife 2019-03-02   39.09    982     4   156.36             4.0   \n",
              "111   Salvador 2019-03-02  147.35   1037     2   294.70             2.0   \n",
              "117   Salvador 2019-03-02   39.41   1034     1    39.41             1.0   \n",
              "109  Fortaleza 2019-03-02   18.90    982     6   113.40             6.0   \n",
              "119     Recife 2019-03-02  152.30    982     7  1066.10             7.0   \n",
              "128   Salvador 2019-03-02   36.84   1034     1    36.84             1.0   \n",
              "110  Fortaleza 2019-03-02   51.98    983     6   311.88             6.0   \n",
              "118  Fortaleza 2019-03-02   17.70    981     5    88.50             5.0   \n",
              "135  Fortaleza 2019-03-02   10.79    983     5    53.95             5.0   \n",
              "129     Recife 2019-03-02   35.34    982     7   247.38             7.0   \n",
              "\n",
              "     Ano_Venda  mes_venda  dia_venda diferenca_dias  trimestre_venda  \n",
              "134       2019          3          2       425 days                1  \n",
              "29        2019          3          9       432 days                1  \n",
              "134       2019          3          2       425 days                1  \n",
              "140       2019          3          2       425 days                1  \n",
              "127       2019          3          2       425 days                1  \n",
              "8         2019          3         27       450 days                1  \n",
              "141       2019          3          2       425 days                1  \n",
              "133       2019          3          2       425 days                1  \n",
              "46        2019          3         26       449 days                1  \n",
              "131       2019          3          2       425 days                1  \n",
              "136       2019          3          2       425 days                1  \n",
              "111       2019          3          2       425 days                1  \n",
              "117       2019          3          2       425 days                1  \n",
              "109       2019          3          2       425 days                1  \n",
              "119       2019          3          2       425 days                1  \n",
              "128       2019          3          2       425 days                1  \n",
              "110       2019          3          2       425 days                1  \n",
              "118       2019          3          2       425 days                1  \n",
              "135       2019          3          2       425 days                1  \n",
              "129       2019          3          2       425 days                1  "
            ]
          },
          "execution_count": 48,
          "metadata": {},
          "output_type": "execute_result"
        }
      ],
      "source": [
        "vendas_marco_19.sample(20)"
      ]
    },
    {
      "cell_type": "code",
      "execution_count": null,
      "metadata": {
        "colab": {},
        "colab_type": "code",
        "id": "JmZ6dy1xKEtC"
      },
      "outputs": [],
      "source": []
    }
  ],
  "metadata": {
    "colab": {
      "name": "Pandas_Aula5.ipynb",
      "provenance": []
    },
    "kernelspec": {
      "display_name": "Python 3.10.8 ('venv': venv)",
      "language": "python",
      "name": "python3"
    },
    "language_info": {
      "codemirror_mode": {
        "name": "ipython",
        "version": 3
      },
      "file_extension": ".py",
      "mimetype": "text/x-python",
      "name": "python",
      "nbconvert_exporter": "python",
      "pygments_lexer": "ipython3",
      "version": "3.10.8"
    },
    "vscode": {
      "interpreter": {
        "hash": "0374f661a5d967d5b20542482b2df8f416f4abb95f9346eceff16ea8eef416f4"
      }
    }
  },
  "nbformat": 4,
  "nbformat_minor": 0
}
